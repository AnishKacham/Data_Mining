{
  "nbformat": 4,
  "nbformat_minor": 0,
  "metadata": {
    "colab": {
      "name": "DM_assignment_Kmeans",
      "provenance": [],
      "collapsed_sections": []
    },
    "kernelspec": {
      "name": "python3",
      "display_name": "Python 3"
    },
    "accelerator": "GPU"
  },
  "cells": [
    {
      "cell_type": "code",
      "metadata": {
        "id": "E2rsIrsqreTM"
      },
      "source": [
        "import numpy as np\r\n",
        "import pandas as pd\r\n",
        "import random\r\n",
        "from sklearn.metrics import davies_bouldin_score,silhouette_score\r\n",
        "import tensorflow as tf"
      ],
      "execution_count": null,
      "outputs": []
    },
    {
      "cell_type": "code",
      "metadata": {
        "colab": {
          "base_uri": "https://localhost:8080/"
        },
        "id": "KgA_g7zisYZ0",
        "outputId": "e7b7f3cc-debe-4f96-f630-386a0e37d847"
      },
      "source": [
        "from google.colab import drive\r\n",
        "\r\n",
        "drive.mount('/content/drive')"
      ],
      "execution_count": null,
      "outputs": [
        {
          "output_type": "stream",
          "text": [
            "Drive already mounted at /content/drive; to attempt to forcibly remount, call drive.mount(\"/content/drive\", force_remount=True).\n"
          ],
          "name": "stdout"
        }
      ]
    },
    {
      "cell_type": "code",
      "metadata": {
        "id": "soJmyrNSc61c"
      },
      "source": [
        "def initialization(X,k,state):\r\n",
        "  random.seed(state)\r\n",
        "  c = random.sample(range(0, len(X)), k,) #random  k points from the data\r\n",
        "  centroids = []\r\n",
        "  for i in c:\r\n",
        "    centroids.append(np.array(X[i]))\r\n",
        "  return centroids"
      ],
      "execution_count": null,
      "outputs": []
    },
    {
      "cell_type": "code",
      "metadata": {
        "id": "ZuLpwOlHeenB"
      },
      "source": [
        "def calc_dist(X1, X2):\r\n",
        "    return(sum((X1 - X2)**2))**0.5"
      ],
      "execution_count": null,
      "outputs": []
    },
    {
      "cell_type": "code",
      "metadata": {
        "id": "rUL-xHrvfspW"
      },
      "source": [
        "def findlabels(ic, X):\r\n",
        "    labels = []\r\n",
        "    for i in X:\r\n",
        "        distance=[]\r\n",
        "        for j in ic:\r\n",
        "            distance.append(calc_dist(i, j))\r\n",
        "        labels.append(np.argmin(distance))\r\n",
        "    return labels"
      ],
      "execution_count": null,
      "outputs": []
    },
    {
      "cell_type": "code",
      "metadata": {
        "id": "K15diWvwg8KD"
      },
      "source": [
        "def calc_centroids(clusters, X):\r\n",
        "    new_centroids = []\r\n",
        "    new_df = pd.concat([pd.DataFrame(X), pd.DataFrame(clusters, columns=['cluster'])],\r\n",
        "                      axis=1)\r\n",
        "    for c in set(new_df['cluster']):\r\n",
        "        current_cluster = new_df[new_df['cluster'] == c][new_df.columns[:-1]]\r\n",
        "        cluster_mean = current_cluster.mean(axis=0)\r\n",
        "        new_centroids.append(np.array(cluster_mean))\r\n",
        "    return new_centroids"
      ],
      "execution_count": null,
      "outputs": []
    },
    {
      "cell_type": "code",
      "metadata": {
        "id": "OroH7Dk3iNtG"
      },
      "source": [
        "def kmeans(X,k,iterations,seed):\r\n",
        "    centroids=initialization(X,k,seed) #initial centroids\r\n",
        "    labels=[]\r\n",
        "    for itr in range(iterations):\r\n",
        "      labels = findlabels(centroids, X) #assigned cluster to each\r\n",
        "      new_centroids = calc_centroids(labels,X)\r\n",
        "      if np.array_equal(new_centroids,centroids):\r\n",
        "        return labels\r\n",
        "      centroids= new_centroids\r\n",
        "    return labels"
      ],
      "execution_count": null,
      "outputs": []
    },
    {
      "cell_type": "code",
      "metadata": {
        "colab": {
          "base_uri": "https://localhost:8080/"
        },
        "id": "WtewFRKviWMO",
        "outputId": "148b4600-2b7a-4cc9-98d4-40c6f22aff53"
      },
      "source": [
        "with tf.device('/device:GPU:0'):\r\n",
        "  sv=np.zeros((56,9))\r\n",
        "  db=np.zeros((56,9))\r\n",
        "  for i in range(1,57):\r\n",
        "      print(i)\r\n",
        "      df=pd.read_csv('/content/drive/My Drive/DM_assignment/'+str(i)+'.csv',header= None)\r\n",
        "      X=np.array(df.iloc[:,0:-1])\r\n",
        "      for j in range(2,11):\r\n",
        "        labels = kmeans(X,j,300,0)\r\n",
        "        sv[i-1,j-2]=silhouette_score(X,labels)\r\n",
        "        db[i-1,j-2]=davies_bouldin_score(X,labels)\r\n"
      ],
      "execution_count": null,
      "outputs": [
        {
          "output_type": "stream",
          "text": [
            "1\n",
            "2\n",
            "3\n",
            "4\n",
            "5\n",
            "6\n",
            "7\n",
            "8\n",
            "9\n",
            "10\n",
            "11\n",
            "12\n",
            "13\n",
            "14\n",
            "15\n",
            "16\n",
            "17\n",
            "18\n",
            "19\n",
            "20\n",
            "21\n",
            "22\n",
            "23\n",
            "24\n",
            "25\n",
            "26\n",
            "27\n",
            "28\n",
            "29\n",
            "30\n",
            "31\n",
            "32\n",
            "33\n",
            "34\n",
            "35\n",
            "36\n",
            "37\n",
            "38\n",
            "39\n",
            "40\n",
            "41\n",
            "42\n",
            "43\n",
            "44\n",
            "45\n",
            "46\n",
            "47\n",
            "48\n",
            "49\n",
            "50\n",
            "51\n",
            "52\n",
            "53\n",
            "54\n",
            "55\n"
          ],
          "name": "stdout"
        }
      ]
    },
    {
      "cell_type": "code",
      "metadata": {
        "id": "YutbN3C9vXSb"
      },
      "source": [
        "df1=pd.DataFrame(sv)\r\n",
        "df2=pd.DataFrame(db)\r\n",
        "df1.to_csv('/content/drive/My Drive/DM_assignment_/svkmeans.csv')\r\n",
        "df2.to_csv('/content/drive/My Drive/DM_assignment_/dbkmeans.csv')\r\n"
      ],
      "execution_count": null,
      "outputs": []
    },
    {
      "cell_type": "code",
      "metadata": {
        "id": "grlk_qdnqx0c"
      },
      "source": [
        ""
      ],
      "execution_count": null,
      "outputs": []
    }
  ]
}