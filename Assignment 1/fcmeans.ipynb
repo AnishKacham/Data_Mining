{
  "nbformat": 4,
  "nbformat_minor": 0,
  "metadata": {
    "colab": {
      "name": "DM_assignment_FuzzyCmeans",
      "provenance": [],
      "collapsed_sections": []
    },
    "kernelspec": {
      "name": "python3",
      "display_name": "Python 3"
    },
    "accelerator": "GPU"
  },
  "cells": [
    {
      "cell_type": "code",
      "metadata": {
        "id": "OFKaH2jAUrA6"
      },
      "source": [
        "import numpy as np\r\n",
        "import pandas as pd\r\n",
        "import random\r\n",
        "from sklearn.metrics import davies_bouldin_score,silhouette_score\r\n",
        "import tensorflow as tf\r\n",
        "from scipy.spatial import distance"
      ],
      "execution_count": 1,
      "outputs": []
    },
    {
      "cell_type": "code",
      "metadata": {
        "colab": {
          "base_uri": "https://localhost:8080/"
        },
        "id": "ztkSMYhcVmfO",
        "outputId": "fa3d59b8-e9b0-42c3-b299-01d9594b9efb"
      },
      "source": [
        "from google.colab import drive\r\n",
        "\r\n",
        "drive.mount('/content/drive')"
      ],
      "execution_count": 3,
      "outputs": [
        {
          "output_type": "stream",
          "text": [
            "Drive already mounted at /content/drive; to attempt to forcibly remount, call drive.mount(\"/content/drive\", force_remount=True).\n"
          ],
          "name": "stdout"
        }
      ]
    },
    {
      "cell_type": "code",
      "metadata": {
        "id": "Rqifu5-7X6Zq"
      },
      "source": [
        "def initialization (rows,c,state):\r\n",
        "  random.seed(state)\r\n",
        "  return np.random.dirichlet(np.ones(c),size=rows) #random Dirichlet distribution (sum = 1)"
      ],
      "execution_count": 10,
      "outputs": []
    },
    {
      "cell_type": "code",
      "metadata": {
        "id": "pEqzn_TSZO8E"
      },
      "source": [
        "def calc_centroid(X,wt,c,m,rows,features):\r\n",
        "  centroids=np.zeros((c,features)) \r\n",
        "  for j in range(c):                              \r\n",
        "    sum_of_num =np.zeros((1,features))\r\n",
        "    for i in range(rows):           \r\n",
        "      temp_sum = np.multiply(np.power(wt[i,j],m),X[i,:])      #sum of ((weight^m)*x)\r\n",
        "      sum_of_num +=temp_sum  \r\n",
        "    sum_of_denom = np.sum(np.power(wt[:,j],m))      #sum of (weight^m)\r\n",
        "    centroids[j] = np.divide(sum_of_num,sum_of_denom)\r\n",
        "  return centroids\r\n",
        "      "
      ],
      "execution_count": 5,
      "outputs": []
    },
    {
      "cell_type": "code",
      "metadata": {
        "id": "GdzzdXpBfwO5"
      },
      "source": [
        "def calc_mvm(X,c,rows,m,centroids,wt): #calculate membership value matrix\r\n",
        "  for i in range(rows):\r\n",
        "    temp_sum = 0\r\n",
        "    for j in range(c):                      #formula of membership-value calculation used\r\n",
        "      temp_sum += np.power(1/distance.euclidean(centroids[j,:],X[i,:]),2/(m-1))     \r\n",
        "    for j in range(c):\r\n",
        "      new_wt = np.power((1/distance.euclidean(centroids[j,:],X[i,:])),2/(m-1))/temp_sum    \r\n",
        "      wt[i,j] = new_wt"
      ],
      "execution_count": 6,
      "outputs": []
    },
    {
      "cell_type": "code",
      "metadata": {
        "id": "vFR9hRZXWYGi"
      },
      "source": [
        "def fuzzycmeans(X,c,iterations,m,state):\r\n",
        "  features =len(X[0])  #no. of features (dimensions)\r\n",
        "  rows = len(X)        #no. of rows\r\n",
        "  wt = initialization(rows,c,state) #wt[i][j] means weight of ith data in jth cluster \r\n",
        "  old_centroids=calc_centroid(X,wt,c,m,rows,features)\r\n",
        "  for itr in range(iterations-1):\r\n",
        "      calc_mvm(X,c,rows,m,old_centroids,wt)\r\n",
        "      new_centroids = calc_centroid(X,wt,c,m,rows,features)\r\n",
        "      if np.all(np.less_equal((np.sum((new_centroids-old_centroids)**2))**0.5,np.full((c,1),0.0001))):\r\n",
        "        return wt\r\n",
        "      old_centroids= new_centroids\r\n",
        "  return wt\r\n"
      ],
      "execution_count": 14,
      "outputs": []
    },
    {
      "cell_type": "code",
      "metadata": {
        "colab": {
          "base_uri": "https://localhost:8080/"
        },
        "id": "eDRKPU5-VnZi",
        "outputId": "ecbbf7c6-15ce-446a-e298-63c926141729"
      },
      "source": [
        "with tf.device('/device:GPU:0'):\r\n",
        "  sv=np.zeros((56,9))\r\n",
        "  db=np.zeros((56,9))\r\n",
        "  for i in range(1,57):\r\n",
        "      print(i)\r\n",
        "      df=pd.read_csv('/content/drive/My Drive/DM_assignment/'+str(i)+'.csv',header= None)\r\n",
        "      X=np.array(df.iloc[:,0:-1])\r\n",
        "      for j in range(2,11):\r\n",
        "        wt = fuzzycmeans(X,j,300,2,0)\r\n",
        "        labels=np.argmax(wt,axis=1)\r\n",
        "        sv[i-1,j-2]=silhouette_score(X,labels)\r\n",
        "        db[i-1,j-2]=davies_bouldin_score(X,labels)\r\n"
      ],
      "execution_count": 15,
      "outputs": [
        {
          "output_type": "stream",
          "text": [
            "1\n",
            "2\n",
            "3\n",
            "4\n",
            "5\n",
            "6\n",
            "7\n",
            "8\n",
            "9\n"
          ],
          "name": "stdout"
        }
      ]
    },
    {
      "cell_type": "code",
      "metadata": {
        "id": "rBZXY0RPWYFA"
      },
      "source": [
        "df1=pd.DataFrame(sv)\r\n",
        "df2=pd.DataFrame(db)\r\n",
        "df1.to_csv('/content/drive/My Drive/DM_assignment_/svfcmeans.csv')\r\n",
        "df2.to_csv('/content/drive/My Drive/DM_assignment_/dbfcmeans.csv')\r\n"
      ],
      "execution_count": null,
      "outputs": []
    },
    {
      "cell_type": "code",
      "metadata": {
        "id": "q6hVtQCaqnL6"
      },
      "source": [
        ""
      ],
      "execution_count": null,
      "outputs": []
    }
  ]
}
